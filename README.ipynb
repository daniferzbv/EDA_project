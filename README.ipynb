{
 "cells": [
  {
   "cell_type": "markdown",
   "metadata": {},
   "source": [
    "Hola!\n",
    "\n",
    "Este es el trabajo EDA de Daniel Fernández Baviera, el cual trata sobre el marco de empleo del sector DATA.\n",
    "\n",
    "\n",
    "A continuación te voy a describir como esta dividido el trabajo, explicandote que contiene cada archivo.\n",
    "\n",
    "Para el desarrollo del trabajo he utilizado 3 datasets de ofertas de empleo y la pagina web del mapa de telefonica de la cual he srappeado la info necesaria. Todos los links estan dentro del word llamado 'fuentes consultadas'. A continuación explico el contenido de los diferentes notebooks:\n",
    "\n",
    "\n",
    "- Recoleccion datos telefonica 1 y 2: aquí se encuentra el codigo desarrollado para webscrappear la informacion utilizada para el trabajo.\n",
    "\n",
    "- Graficos telefonica: documento donde paso a grafico toda la info scrappeada.\n",
    "\n",
    "- Graficos sueldos: de uno de los datasets utilizados extraigo toda la informacion relativa al sueldo que se expone en el trabajo\n",
    "\n",
    "- Habilidades: de los otros dos datasets empleados extraigo informacion de las ofertas de trabajo para averiguar cuales son las habilidades tecnologicas que se demandan. Además parte de la informacion de la pagina web de telefonica es graficada aqui.\n",
    "\n",
    "\n",
    "\n",
    "\n"
   ]
  }
 ],
 "metadata": {
  "language_info": {
   "name": "python"
  }
 },
 "nbformat": 4,
 "nbformat_minor": 2
}
